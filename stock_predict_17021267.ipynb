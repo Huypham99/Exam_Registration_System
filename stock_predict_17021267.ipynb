{
  "nbformat": 4,
  "nbformat_minor": 0,
  "metadata": {
    "colab": {
      "name": "stock_predict_17021267.ipynb",
      "provenance": [],
      "collapsed_sections": [],
      "authorship_tag": "ABX9TyN0zkD5CgqX2Xl9P8S51z0w",
      "include_colab_link": true
    },
    "kernelspec": {
      "name": "python3",
      "display_name": "Python 3"
    }
  },
  "cells": [
    {
      "cell_type": "markdown",
      "metadata": {
        "id": "view-in-github",
        "colab_type": "text"
      },
      "source": [
        "<a href=\"https://colab.research.google.com/github/Huypham99/Exam_Registration_System/blob/master/stock_predict_17021267.ipynb\" target=\"_parent\"><img src=\"https://colab.research.google.com/assets/colab-badge.svg\" alt=\"Open In Colab\"/></a>"
      ]
    },
    {
      "cell_type": "code",
      "metadata": {
        "id": "xjdZUlIfycrH",
        "colab_type": "code",
        "colab": {}
      },
      "source": [
        "def getFeature(data):\n",
        "  return data.rolling(5).min().dropna().values.reshape(-1)\n",
        "\n",
        "def create_Xy(df, history=1):\n",
        "\n",
        "    X, y, dates = [], [], []\n",
        "    for row_idx in range(history, len(df)):\n",
        "        y.append( df.iloc[row_idx,:].values.reshape(-1) )\n",
        "        X.append( getFeature(df.iloc[row_idx-history:row_idx,:]) )\n",
        "        dates.append(df.index[row_idx])\n",
        "    X, y = np.array(X), np.array(y)\n",
        "    return X, y, dates\n",
        "\n",
        "X,y,dates = create_Xy(df, history=5)\n",
        "n_train = len(y) * 7 // 10\n",
        "X_train, y_train, dates_train, X_test, y_test, dates_test = X[:n_train], y[:n_train], dates[:n_train], X[n_train:], y[n_train:], dates[n_train:]\n",
        "\n",
        "\n",
        "clf = LinearRegression()\n",
        "clf.fit(X_train, y_train)\n",
        "ypred = clf.predict(X_test)"
      ],
      "execution_count": 0,
      "outputs": []
    }
  ]
}